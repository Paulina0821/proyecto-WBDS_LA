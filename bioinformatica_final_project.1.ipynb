{
  "cells": [
    {
      "cell_type": "markdown",
      "id": "94c88a70-e1c4-4913-a6f1-c4a569cf6e2c",
      "metadata": {
        "id": "94c88a70-e1c4-4913-a6f1-c4a569cf6e2c",
        "tags": []
      },
      "source": [
        "# **Women in Bioinformatics and Data Science**"
      ]
    },
    {
      "attachments": {},
      "cell_type": "markdown",
      "id": "6a9671cd-cacc-49e2-b294-e276b3909151",
      "metadata": {
        "id": "6a9671cd-cacc-49e2-b294-e276b3909151",
        "tags": []
      },
      "source": [
        "## <font color=purple>**2023 1st WBDS LA Camp \"Introduction to Bioinformatics and Data Science\"** \n",
        "## Proyecto final elaborado por Norma Paulina López Zamora para el Bootcamp \"Women in bioinformatics and Data Science\"\n",
        "\n",
        "## Introducción\n",
        "\n",
        "Los fitopatógenos tienen un impacto importante tanto en el aspecto ambiental como económico, pues afectan la producción agricola y forestal (Bergeret, 2017). Dichos efectos han cobrado mayor impocta debido a cambio climatico,  la aparición de nuevas enfermedades así como a la rápida propagación de las mismas (Chakraborty  y Newton, 2011).\n",
        "Actualmente se ha visto una reducción del uso de pesticidas convencionales y ha aumentado el interés por alternativas que sean sostenibles y eficaces (Lamichhane, et al. 2016).\n",
        "El control biológico se considera una  buena alternativa y en las últimas décadas se ha desarrollado una amplia gama de agentes de biocontrol microbiano (BCA) para el manejo de enfermedades fúngicas y bacterianas. Los agentes biólogicos que más se han estudiado son bacterias pertenecientes al género Pseudomonas spp., Bacillus spp. y Streptomyces spp., que ya han sido registradas como productos comerciales y comercializadas (Bonaterra, et al. 2022)\n",
        "\n",
        "El presente trabajo tiene como objetivo buscar secuencias codificantes de proteínas asociadas a la sintesis de compuestos antimicrobianos. De manera global, el poryecto abarca los siguiente rubros:\n",
        "\n",
        "-  Predicción de genes en genomas bacterianos\n",
        "-  Búsqueda de secuencias proteínicas en bases de datos\n",
        "-  Búsqueda de secuencias homólogas usando BLAST\n",
        "-  Búsqueda de dominios funcionales en proteínas seleccionadas \n",
        "\n",
        "Para llevar a cabo lo anterior, se eligió trabajar con uno de los géneros bacterianos más estudiados en el control biológico: *Pseudomonas*\n",
        "\n",
        "Referencias consultadas:\n",
        "\n",
        "- Bergeret, P. (2017). The future of food and agriculture: Trends and challenges [Note de lecture]. Bibliographie prospective, n. 29/09, 3.\n",
        "- Bonaterra A, Badosa E, Daranas N, Francés J, Roselló G, Montesinos E. Bacteria as Biological Control Agents of Plant Diseases. (2022).Microorganisms.  31;10(9):1759. doi: 10.3390/microorganisms10091759\n",
        "- Chakraborty, S., and Newton, A. C. (2011). Climate change, plant diseases and food security: an overview. Plant pathology, 60(1), 2-14.\n",
        "- Lamichhane, J. R., Dachbrodt-Saaydeh, S., Kudsk, P., and Messéan, A. (2016). Toward a reduced reliance on conventional pesticides in European agriculture. Plant Disease, 100(1), 10-24.\n",
        "\n",
        "\n",
        "\n",
        "\n",
        "\n"
      ]
    },
    {
      "cell_type": "markdown",
      "id": "3b86282e-6296-4414-a253-a058146b905f",
      "metadata": {
        "id": "3b86282e-6296-4414-a253-a058146b905f",
        "tags": []
      },
      "source": [
        "# **0. Preparación del entorno**"
      ]
    },
    {
      "attachments": {},
      "cell_type": "markdown",
      "id": "fbd23a7e-8337-4582-990e-2b8df718d785",
      "metadata": {
        "id": "fbd23a7e-8337-4582-990e-2b8df718d785"
      },
      "source": [
        ">1.  ### Para que el notebook funcione adecuadamente se debe contrar con correo electrónico y la API key que proporciona NCBI a sus usuarios registrados\n",
        ">2. ### Se hará uso de las siguientes bibliotecas, que se pueden instalar con el comando !pip3 install"
      ]
    },
    {
      "cell_type": "code",
      "execution_count": null,
      "id": "8a632926",
      "metadata": {},
      "outputs": [],
      "source": [
        "!pip3 install matplotlib\n",
        "!pip3 install requests\n",
        "!pip3 install matplotlib\n",
        "!pip3 install pandas\n",
        "!pip3 install pycirclize\n",
        "!pip3 install pyrodigal\n",
        "!pip3 install requests\n",
        "!pip3 install seaborn\n",
        "!pip3 install biopython\n",
        "\n",
        "\n",
        "#Las bibliotecas `sys`,`subprocess` y `io` forman parte del core de python"
      ]
    },
    {
      "attachments": {},
      "cell_type": "markdown",
      "id": "01fc2f63-cb26-46d4-8431-56a371a05fc9",
      "metadata": {
        "id": "01fc2f63-cb26-46d4-8431-56a371a05fc9"
      },
      "source": [
        "## Las bibliotecas que usaremos son las siguientes:\n",
        "\n",
        "\n",
        "- ### [pandas](https://pandas.pydata.org/) para el manejo general de datos\n",
        "- ### [pyCirclize](https://moshi4.github.io/pyCirclize/) para visualizar nuestros datos genómicos\n",
        "- ### [pyrodigal](https://pyrodigal.readthedocs.io/en/stable/) para la predicción de genes codificantes\n",
        "- ### [requests](https://requests.readthedocs.io/en/latest/) para interactuar con las APIs de NCBI, UniProt \n",
        "- ### [seaborn](https://seaborn.pydata.org/) para visualizar algunas de las propiedades genómicas obtenidas\n",
        "- ### [subprocess](https://docs.python.org/3/library/subprocess.html) ejecutar comandos fuera del entorno de python\n",
        "- ### [BioPython](https://biopython.org/) para el manejo de secuencias\n",
        "- ### [io](https://docs.python.org/3/library/io.html) para conectar las entradas y salidas de los distintos programas\n",
        "\n",
        "## Importemos las librerías que vamos a usar con el siguiente código:"
      ]
    },
    {
      "cell_type": "code",
      "execution_count": null,
      "id": "c0d2bae9-1bd0-41c3-9ff0-1e2426508199",
      "metadata": {
        "id": "c0d2bae9-1bd0-41c3-9ff0-1e2426508199"
      },
      "outputs": [],
      "source": [
        "\n",
        "import matplotlib.pyplot as plt\n",
        "import numpy  as np\n",
        "import pandas as pd\n",
        "import pyrodigal\n",
        "import requests\n",
        "import seaborn as sns\n",
        "import subprocess\n",
        "import sys\n",
        "from Bio import SeqIO\n",
        "from Bio import Entrez\n",
        "Entrez.email   = \"paulyna_9omar@hotmail.com\"\n",
        "Entrez.api_key = \"48c3a23c85df17cbf0c11dae486cf7723b09\"\n",
        "from io                 import StringIO\n",
        "from matplotlib.patches import Patch\n",
        "from pycirclize         import Circos\n",
        "from pycirclize.parser  import Gff\n",
        "from requests.adapters  import HTTPAdapter, Retry\n"
      ]
    },
    {
      "attachments": {},
      "cell_type": "markdown",
      "id": "0b76cf6c-b3a7-4678-9d52-181522d13244",
      "metadata": {
        "id": "0b76cf6c-b3a7-4678-9d52-181522d13244",
        "tags": []
      },
      "source": [
        "# **1. Obtención de una secuencia genómica**\n",
        "## Ejemplo: *Pseudomonas*"
      ]
    },
    {
      "attachments": {},
      "cell_type": "markdown",
      "id": "f579d876-7a4e-4c43-a530-1af16ab26bc2",
      "metadata": {
        "id": "f579d876-7a4e-4c43-a530-1af16ab26bc2",
        "tags": []
      },
      "source": [
        "## A la fecha, se ha caracterizado gran diversidad de géneros bacterianos que tiene la capacidad de fijar nitrogeno y producir compuestos que estimulan el crecimiento vegetal. El género *Pseudomonas* ha sido ampliamente estudiado por su capacidad de excretar metabolitos secundarios que han demostrado ser efectvios en el biocontrol (Bonaterra, et al. 2022). "
      ]
    },
    {
      "attachments": {},
      "cell_type": "markdown",
      "id": "1f18862b-867f-4ca6-a844-f6b11da54432",
      "metadata": {
        "id": "1f18862b-867f-4ca6-a844-f6b11da54432"
      },
      "source": [
        "\n",
        "### En el sitio web de [NCBI - Genome](https://www.ncbi.nlm.nih.gov/data-hub/genome) se realizó una búsqueda del genero *Pseudomonas*\n",
        "\n",
        "- #### Para este trabajo se usó el  ensamble [ASM1340352v1](https://www.ncbi.nlm.nih.gov/labs/data-hub/genome/GCA_013403525.1/), y buscarán genes de producción de metabolitos secuendarios (antimicrobianos) para uso en biocontrol  en el cromosoma con número de acceso [CP058636.1](https://www.ncbi.nlm.nih.gov/nuccore/CP058636.1)\n",
        "\n",
        "### El genoma elegido tiene un status de \"completo\" y no tiene anotaciones genómicas. Con el siguiente código descargamos el genoma de *Pseudomonas* sp DS1\n"
      ]
    },
    {
      "cell_type": "code",
      "execution_count": null,
      "id": "8784808a-4118-4f50-ad24-30f222acd1cd",
      "metadata": {
        "id": "8784808a-4118-4f50-ad24-30f222acd1cd"
      },
      "outputs": [],
      "source": [
        "accession = \"CP058636.1\" #descargaremos la sedecuencia en formato \"gb\"\n",
        "genome = Entrez.efetch(db=\"nucleotide\",\n",
        "                       id=accession,\n",
        "                       format=\"gb\",\n",
        "                       rettype=\"text\")\n",
        "record = SeqIO.read(genome, \"genbank\")\n",
        "genome_length = len(record.seq)"
      ]
    },
    {
      "cell_type": "code",
      "execution_count": null,
      "id": "414c511c",
      "metadata": {},
      "outputs": [],
      "source": [
        "#llamaos a la variable para verificar que la variable contiene la longitud del genoma de interés\n",
        "genome_length"
      ]
    },
    {
      "cell_type": "markdown",
      "id": "e2a6515b-c8c2-4752-99de-694d3938849b",
      "metadata": {
        "id": "e2a6515b-c8c2-4752-99de-694d3938849b",
        "tags": []
      },
      "source": [
        "# **2. Predicción de genes usando pyrodigal**"
      ]
    },
    {
      "attachments": {},
      "cell_type": "markdown",
      "id": "c6b3fdd6-212e-4764-a8ac-01bf8c6d060a",
      "metadata": {
        "id": "c6b3fdd6-212e-4764-a8ac-01bf8c6d060a"
      },
      "source": [
        "\n",
        "## Emplearemos pyrodigal para buscar genes en genomas bacterianos"
      ]
    },
    {
      "attachments": {},
      "cell_type": "markdown",
      "id": "2912192f-1e57-4c26-9710-22ea34a9be62",
      "metadata": {
        "id": "2912192f-1e57-4c26-9710-22ea34a9be62"
      },
      "source": [
        "### Con el siguiente código podemos encontrar los genes codificantes de proteínas en nuestro genoma procariótico de *Pseudomonas* sp DS1"
      ]
    },
    {
      "cell_type": "code",
      "execution_count": null,
      "id": "82b7e147-4171-4b25-b987-f637c75c3536",
      "metadata": {
        "id": "82b7e147-4171-4b25-b987-f637c75c3536"
      },
      "outputs": [],
      "source": [
        "orf_finder = pyrodigal.OrfFinder()#llamamos pyrodigal.orFinder para entrenar la funcion con la secuencia elegida\n",
        "orf_finder.train(bytes(record.seq)) \n",
        "orf_genes  = orf_finder.find_genes(bytes(record.seq))#find genes para encontrar los genes en la secuencia genomica de Pseudomonas"
      ]
    },
    {
      "attachments": {},
      "cell_type": "markdown",
      "id": "b9f281df-17db-46ff-a6c8-295a6c3dcae1",
      "metadata": {
        "id": "b9f281df-17db-46ff-a6c8-295a6c3dcae1",
        "tags": []
      },
      "source": [
        "\n",
        "### Con el siguiente código, almacenaremos las secuencias aminoacídicas de los genes predichos en un archivo`CP058636.1.faa`\n",
        "### (archivo fasta de aminoacidos) \n",
        "\n",
        "> ### Para identificar nuestras secuencias aminoacídicas usaremos el prefijo PseudoDS1"
      ]
    },
    {
      "cell_type": "code",
      "execution_count": null,
      "id": "d24ef49e-fbcb-4f84-a905-4c0717b39007",
      "metadata": {
        "id": "d24ef49e-fbcb-4f84-a905-4c0717b39007"
      },
      "outputs": [],
      "source": [
        "aa_file = accession + \".faa\"\n",
        "prefix  = \"PseudoDS1\"\n",
        "with open(aa_file, \"w\") as orf_gene:\n",
        "    orf_genes.write_translations(orf_gene,sequence_id=prefix)"
      ]
    },
    {
      "cell_type": "code",
      "execution_count": null,
      "id": "d1e0231e",
      "metadata": {},
      "outputs": [],
      "source": [
        "! type CP058636.1.faa #podemos llamar al archivo para ver su información con este código"
      ]
    },
    {
      "attachments": {},
      "cell_type": "markdown",
      "id": "65797a75-2a90-42cb-a360-7a5de160714f",
      "metadata": {
        "id": "65797a75-2a90-42cb-a360-7a5de160714f"
      },
      "source": [
        "### Con el siguiente código, podemos almacenar las coordenadas de los genes predichos en un nuevo archivo `CP058636.1.gff`(archivo de propiedas generales)"
      ]
    },
    {
      "cell_type": "code",
      "execution_count": null,
      "id": "35c3462d-cf54-486c-ab1c-2b39c91998d8",
      "metadata": {
        "id": "35c3462d-cf54-486c-ab1c-2b39c91998d8"
      },
      "outputs": [],
      "source": [
        "gff_file = accession + \".gff\"\n",
        "prefix  = \"PseudoDS1\"\n",
        "with open(gff_file, \"w\") as orf_gene:\n",
        "    orf_genes.write_gff(orf_gene,sequence_id=prefix)"
      ]
    },
    {
      "cell_type": "code",
      "execution_count": null,
      "id": "79a6693b",
      "metadata": {},
      "outputs": [],
      "source": [
        "! type CP058636.1.gff"
      ]
    },
    {
      "attachments": {},
      "cell_type": "markdown",
      "id": "4cc91d47-b199-43e3-b414-569287151dfc",
      "metadata": {
        "id": "4cc91d47-b199-43e3-b414-569287151dfc"
      },
      "source": [
        "- ## El archivo `CP058636.1.faa` será util para comparar un set de secuencias curadas contra las predicciones de pyrodigal\n",
        "- ## El archivo `CP058636.1.gff` será util para visualizar las predicciones realizadas"
      ]
    },
    {
      "cell_type": "markdown",
      "id": "405e7a3b-3cc6-45ac-bacf-c2eb791a1b34",
      "metadata": {
        "id": "405e7a3b-3cc6-45ac-bacf-c2eb791a1b34",
        "tags": []
      },
      "source": [
        "# **3. Obtención de un set de secuencias de referencia**"
      ]
    },
    {
      "attachments": {},
      "cell_type": "markdown",
      "id": "340d8e3f-1733-4671-a4cb-75c766b541e9",
      "metadata": {
        "id": "340d8e3f-1733-4671-a4cb-75c766b541e9",
        "tags": []
      },
      "source": [
        "## [UniProt](https://www.uniprot.org) es un repositorio en donde están albergadas secuencias de referencia de multiples organismos.\n",
        "### En este ejercicio se usó la API de UniProt mediante `requests` para mantener todo nuestro código en el notebook de python\n",
        "\n",
        "### Con el siguiente código vemos que usaremos la url para acceder al repositorio de Uniprot, usamos el \"query\" *antimicrobial*y que estén revisadas en la base de datos de Unirpot. Descpués alamcenamos la información en la variable  `uniprot_ref_seqs`"
      ]
    },
    {
      "cell_type": "code",
      "execution_count": null,
      "id": "652e8d54-bf13-4109-aafb-4e922055b023",
      "metadata": {
        "id": "652e8d54-bf13-4109-aafb-4e922055b023"
      },
      "outputs": [],
      "source": [
        "uniprot_api_url  = \"https://rest.uniprot.org/uniprotkb/stream\"#url api\n",
        "uniprot_api_args = {\"compressed\" : \"false\",\n",
        "                    \"format\"     : \"fasta\",\n",
        "                    \"query\"      : \"(antimicrobial) AND (reviewed:true)\"}#diccionario para comincarnos con la API\n",
        "uniprot_ref_seqs = requests.get(uniprot_api_url,params=uniprot_api_args).text"
      ]
    },
    {
      "attachments": {},
      "cell_type": "markdown",
      "id": "8f235f41-04c2-4e66-acf9-fd831e64d3bc",
      "metadata": {
        "id": "8f235f41-04c2-4e66-acf9-fd831e64d3bc"
      },
      "source": [
        "## Después pasamos las secuencias en formato fasta a un archivo (`uniprot_sequences.fasta`) en nuestro disco duro\n",
        "### #con esta secuencia podemos comparar las secuencias encontradas en el genoma anlizado y ver si hay proteínas relacionadas con la síntesis de compuestos antimicrobianos\n"
      ]
    },
    {
      "cell_type": "code",
      "execution_count": null,
      "id": "a73bda40-1142-4193-88c0-fa509130ddaa",
      "metadata": {
        "id": "a73bda40-1142-4193-88c0-fa509130ddaa"
      },
      "outputs": [],
      "source": [
        "uniprot_seqs_file = open(\"uniprot_sequences.fasta\", \"wt\")\n",
        "uniprot_seqs_file.write(uniprot_ref_seqs)\n",
        "uniprot_seqs_file.close()"
      ]
    },
    {
      "cell_type": "code",
      "execution_count": null,
      "id": "92b5f47e",
      "metadata": {},
      "outputs": [],
      "source": [
        "! type uniprot_sequences.fasta "
      ]
    },
    {
      "cell_type": "markdown",
      "id": "6b110d37-ebb1-4dad-9f76-b9a390427f18",
      "metadata": {
        "id": "6b110d37-ebb1-4dad-9f76-b9a390427f18",
        "tags": []
      },
      "source": [
        "# **4. Creación de una base de datos tipo BLAST**"
      ]
    },
    {
      "attachments": {},
      "cell_type": "markdown",
      "id": "3c42ad29-196e-4aff-a31a-4ea0d2860d7a",
      "metadata": {
        "id": "3c42ad29-196e-4aff-a31a-4ea0d2860d7a"
      },
      "source": [
        "## A partir de las secuencias aminoacídicas de las predicciones de pyrodigal, contruimos una base de datos tipo BLAST(contiene todas las proteinas que están codificadas en el genoma) y vamos hacer una búsqueda de las proteínas obtenidas en Uniprot (comparándola con BLAST) para ver si hay proteínas que se parezcan entre ambos dataset\n",
        "\n",
        "### Con el siguiente código pasamos distintos argumentos al comando `makeblastdb` para construir la base de datos"
      ]
    },
    {
      "cell_type": "code",
      "execution_count": null,
      "id": "861f2a45-0cb5-4e7b-bffe-22c1afe9dc8e",
      "metadata": {
        "colab": {
          "base_uri": "https://localhost:8080/",
          "height": 363
        },
        "id": "861f2a45-0cb5-4e7b-bffe-22c1afe9dc8e",
        "outputId": "49cb7cda-c315-4000-dc2e-07f901057f10"
      },
      "outputs": [],
      "source": [
        "makeblastdb_path = \"D:/Program Files (x86)/NCBI/blast-BLAST_VERSION+/bin/makeblastdb\"#dirección al ejecutable de makeblastdb\n",
        "makeblastdb_command = [makeblastdb_path,'-in',aa_file,'-dbtype','prot']# el archivo de entrada es aa_file\n",
        "subprocess.call(makeblastdb_command)\n",
        "\n",
        "#vemos que retorna 0, por lo que podemos asumir que durante el proceso no hubo errores y que ya tenemos nuestra base de datos tipo BLAST"
      ]
    },
    {
      "attachments": {},
      "cell_type": "markdown",
      "id": "5072892a-2e49-4e07-9842-9f210d636779",
      "metadata": {
        "id": "5072892a-2e49-4e07-9842-9f210d636779",
        "tags": []
      },
      "source": [
        "# **5. Obtención de secuencias relacionadas a sintesis de compuestos antimicrobianos**"
      ]
    },
    {
      "attachments": {},
      "cell_type": "markdown",
      "id": "dac29fcf-fa68-4b7c-a8b2-44abe5a64dca",
      "metadata": {
        "id": "dac29fcf-fa68-4b7c-a8b2-44abe5a64dca"
      },
      "source": [
        "## Con el siguiente código podemos llamar a BLAST, y obtener una tabla que nos dirá la relación entre la secuencia de base de datos y la secuencia que contramos en nuestro genoma(comparar las secuencias de uniprot contra las secuencias del genoma)\n"
      ]
    },
    {
      "cell_type": "code",
      "execution_count": null,
      "id": "65c5dbdc-27c0-4676-9653-06d145493193",
      "metadata": {
        "id": "65c5dbdc-27c0-4676-9653-06d145493193"
      },
      "outputs": [],
      "source": [
        "blastp_path       = \"D:/Program Files (x86)/NCBI/blast-BLAST_VERSION+/bin/blastp\"\n",
        "blastp_out_format = \"6 qseqid sseqid qlen slen qstart sstart qend send score evalue length positive\"#seleccionamos las columnas con las que nos quedaremos\n",
        "blastp_out_file   = accession + \".blast.tsv\"\n",
        "blastp_command    = [blastp_path,\n",
        "                     \"-db\",          aa_file,\n",
        "                     \"-query\",       \"uniprot_sequences.fasta\",\n",
        "                     \"-evalue\",      \"1e-12\",\n",
        "                     \"-out\",         blastp_out_file,\n",
        "                     \"-outfmt\",      blastp_out_format,\n",
        "                     \"-num_threads\", \"12\"]\n",
        "subprocess.call(blastp_command)\n",
        "\n",
        "#vemos que retorna 0, por lo que podemos asumir que no hubo errores durante el proceso"
      ]
    },
    {
      "cell_type": "code",
      "execution_count": null,
      "id": "30e0ab4c",
      "metadata": {},
      "outputs": [],
      "source": [
        "!type CP058636.1.blast.tsv"
      ]
    },
    {
      "cell_type": "markdown",
      "id": "656c27c4-d48a-49b3-a3b2-e8ed75bca46d",
      "metadata": {
        "id": "656c27c4-d48a-49b3-a3b2-e8ed75bca46d",
        "tags": []
      },
      "source": [
        "# **6. Examinación de los resultados de la búsqueda tipo BLAST**"
      ]
    },
    {
      "attachments": {},
      "cell_type": "markdown",
      "id": "5ce8c029-2ab6-4895-9146-ea0a957ff92d",
      "metadata": {
        "id": "5ce8c029-2ab6-4895-9146-ea0a957ff92d"
      },
      "source": [
        "### Crearemos un DataFrame usando pandas"
      ]
    },
    {
      "cell_type": "code",
      "execution_count": null,
      "id": "d914f1d9-104b-44da-89a0-8cdb7a9f4caf",
      "metadata": {
        "id": "d914f1d9-104b-44da-89a0-8cdb7a9f4caf"
      },
      "outputs": [],
      "source": [
        "blastp_column_names = blastp_out_format.split(\" \")[1:]\n",
        "blastp_df = pd.read_csv(blastp_out_file,sep=\"\\t\",names=blastp_column_names)#asignamos nombres de las columnas usando la variable blastp_out_format"
      ]
    },
    {
      "cell_type": "code",
      "execution_count": null,
      "id": "25a80853",
      "metadata": {},
      "outputs": [],
      "source": [
        "blastp_df# llamamos al data frame para ver su estrudtura. Tenemos un total de 829 filas de las no todas serán de interés"
      ]
    },
    {
      "attachments": {},
      "cell_type": "markdown",
      "id": "0d65c598-2c6d-40c7-8afe-e7f904420144",
      "metadata": {
        "id": "0d65c598-2c6d-40c7-8afe-e7f904420144"
      },
      "source": [
        "### En el genoma de interés encontramos 126 proteínas potencialmente asociadas con síntesis de compuestos antimicrobianos"
      ]
    },
    {
      "cell_type": "code",
      "execution_count": null,
      "id": "7cbb2ee7-59c6-45fb-bf20-3fc81e8e04f2",
      "metadata": {
        "id": "7cbb2ee7-59c6-45fb-bf20-3fc81e8e04f2"
      },
      "outputs": [],
      "source": [
        "candidate_genes=blastp_df[\"sseqid\"].unique().tolist()\n",
        "len(candidate_genes)"
      ]
    },
    {
      "cell_type": "markdown",
      "id": "404093b4-4b65-4d32-b993-f3fc0fbe5dc1",
      "metadata": {
        "id": "404093b4-4b65-4d32-b993-f3fc0fbe5dc1"
      },
      "source": [
        "## 6.1. Visualización preliminar de los datos"
      ]
    },
    {
      "attachments": {},
      "cell_type": "markdown",
      "id": "36f2f3ae-2c18-453f-b15f-1bf2e8b6a394",
      "metadata": {
        "id": "36f2f3ae-2c18-453f-b15f-1bf2e8b6a394",
        "jp-MarkdownHeadingCollapsed": true,
        "tags": []
      },
      "source": [
        "\n",
        "\n",
        "### A través de la biblioteca pyCirclize podemos visualizar los genes que fueron identificados en el paso anterior, y primero debemos transformar la información que tenemos a un formato legible para pyCirclize"
      ]
    },
    {
      "cell_type": "markdown",
      "id": "223643f7-6bac-4a5e-9988-d357bb906c32",
      "metadata": {
        "id": "223643f7-6bac-4a5e-9988-d357bb906c32"
      },
      "source": [
        "### 6.1.1 Transformar nuestro archivo gff en un dataframe"
      ]
    },
    {
      "cell_type": "code",
      "execution_count": null,
      "id": "937e915c-ee5e-4654-ba85-a13c74ca0656",
      "metadata": {
        "id": "937e915c-ee5e-4654-ba85-a13c74ca0656"
      },
      "outputs": [],
      "source": [
        "gff_columns     = [\"chr\",\"source\",\"feature_type\",\"start\",\"end\",\"score\",\"strand\",\"phase\",\"info\"]\n",
        "gff_df          = pd.read_csv(gff_file,sep=\"\\t\",comment=\"#\",header=None,names=gff_columns)\n",
        "gff_df[\"start\"] = gff_df[\"start\"].astype(int)\n",
        "gff_df[\"end\"]   = gff_df[\"end\"].astype(int)"
      ]
    },
    {
      "cell_type": "code",
      "execution_count": null,
      "id": "e4b3bfa7",
      "metadata": {},
      "outputs": [],
      "source": [
        "gff_df#"
      ]
    },
    {
      "attachments": {},
      "cell_type": "markdown",
      "id": "2e5f2036-f1aa-47ff-9b67-8a75267c129d",
      "metadata": {
        "id": "2e5f2036-f1aa-47ff-9b67-8a75267c129d"
      },
      "source": [
        "### 6.1.2 Obtención de información adicional del dataframe `gff_df`\n",
        "### contruimos diccionario"
      ]
    },
    {
      "cell_type": "code",
      "execution_count": null,
      "id": "4e980429-b555-4adc-a4d2-685ad167924c",
      "metadata": {
        "id": "4e980429-b555-4adc-a4d2-685ad167924c"
      },
      "outputs": [],
      "source": [
        "def get_gff_info(info_str):\n",
        "    out_dict = {}\n",
        "    info_arr = info_str.split(\";\")\n",
        "    for line in info_arr:\n",
        "        if \"=\" in line:\n",
        "            line_arr    = line.split(\"=\")\n",
        "            field_name  = line_arr[0]\n",
        "            field_value = line_arr[1]\n",
        "            out_dict[field_name] = field_value\n",
        "    return out_dict"
      ]
    },
    {
      "cell_type": "code",
      "execution_count": null,
      "id": "840b2cdd-520a-4d17-9d10-f916d83547c8",
      "metadata": {
        "id": "840b2cdd-520a-4d17-9d10-f916d83547c8"
      },
      "outputs": [],
      "source": [
        "gff_df[\"annotation\"] = gff_df[\"info\"].apply(lambda x: get_gff_info(x))#tenemos una variable temporal \"X\" cuyos datos estarán en una nueva columna \n",
        "#del dataframe gff_df"
      ]
    },
    {
      "cell_type": "code",
      "execution_count": null,
      "id": "a4fdd78d",
      "metadata": {},
      "outputs": [],
      "source": [
        "gff_df[\"annotation\"]#podemos ver la información de la columna \"annotation\""
      ]
    },
    {
      "cell_type": "markdown",
      "id": "215a0c0b-cd51-4c4a-93e7-af05bb351ca8",
      "metadata": {
        "id": "215a0c0b-cd51-4c4a-93e7-af05bb351ca8"
      },
      "source": [
        "### 6.1.3 Filtrado de datos para incluir solamente los genes identificados como asociados a la biosíntesis de antibióticos"
      ]
    },
    {
      "cell_type": "code",
      "execution_count": null,
      "id": "ade9f9ad-556f-4d17-afd3-9098c06cb258",
      "metadata": {
        "id": "ade9f9ad-556f-4d17-afd3-9098c06cb258"
      },
      "outputs": [],
      "source": [
        "gff_df[\"candidate\"] = gff_df[\"annotation\"].apply(lambda x: \"include\" if x[\"ID\"] in candidate_genes else \"exclude\")#creamos una columna que nos diga si el gen es candidato"
      ]
    },
    {
      "cell_type": "markdown",
      "id": "42e7d2b1-3a33-497f-aa4a-06fc6871269c",
      "metadata": {
        "id": "42e7d2b1-3a33-497f-aa4a-06fc6871269c"
      },
      "source": [
        "### 6.1.4 El resultado lo almacenamos en un nuevo archivo gff para que pyCirclize visualice unicamente los genes de interés"
      ]
    },
    {
      "cell_type": "code",
      "execution_count": null,
      "id": "748f6deb-6e2a-458a-9f7f-e62759810cb4",
      "metadata": {
        "id": "748f6deb-6e2a-458a-9f7f-e62759810cb4"
      },
      "outputs": [],
      "source": [
        "candidate_df = gff_df.copy()\n",
        "candidate_df = candidate_df[candidate_df[\"candidate\"]==\"include\"][gff_columns]\n",
        "candidate_df.to_csv(\"candidates.gff\",sep=\"\\t\",header=False,index=False)"
      ]
    },
    {
      "cell_type": "code",
      "execution_count": null,
      "id": "d19689a9",
      "metadata": {},
      "outputs": [],
      "source": [
        "candidate_df#vemos que tenemos 126 registros"
      ]
    },
    {
      "cell_type": "markdown",
      "id": "cf598bd9-4f58-40e0-9984-9e95e2af38f7",
      "metadata": {
        "id": "cf598bd9-4f58-40e0-9984-9e95e2af38f7"
      },
      "source": [
        "### 6.1.5 Visualización de los datos con pyCirclize"
      ]
    },
    {
      "attachments": {},
      "cell_type": "markdown",
      "id": "86a8cbfb-75f6-49c8-8397-fdafdefc7d4c",
      "metadata": {
        "id": "86a8cbfb-75f6-49c8-8397-fdafdefc7d4c"
      },
      "source": [
        "### Con el siguiente código construiremos distintos objetos para obtener un mapa circular que nos permitirá identificar manualmente potenciales operones en el genoma de *Pseudomonas* sp."
      ]
    },
    {
      "cell_type": "code",
      "execution_count": null,
      "id": "cfa4aa58-f093-4761-b46c-a18ac13189f9",
      "metadata": {
        "id": "cfa4aa58-f093-4761-b46c-a18ac13189f9"
      },
      "outputs": [],
      "source": [
        "circos = Circos(sectors={accession: genome_length})\n",
        "circos.text(\"Pseudomonas sp.\")\n",
        "circos_gff = Gff(gff_file=\"candidates.gff\")\n",
        "sector = circos.get_sector(accession)\n",
        "sector = circos.sectors[0]\n",
        "cds_track = sector.add_track((80, 100))\n",
        "cds_track.axis(fc=\"#EEEEEE\", ec=\"none\")\n",
        "cds_track.genomic_features(circos_gff.extract_features(\"CDS\", target_strand =  1), r_lim=(90, 100),fc=\"red\" )\n",
        "cds_track.genomic_features(circos_gff.extract_features(\"CDS\", target_strand = -1), r_lim=(80,  90),fc=\"blue\")\n",
        "pos_list, labels = [], []\n",
        "cds_track.xticks_by_interval(\n",
        "    interval=500000,\n",
        "    label_formatter=lambda label_value: f\"{label_value/ 1000000:.1f} Mb\",\n",
        "    label_orientation=\"vertical\")\n",
        "fig = circos.plotfig().set_figwidth(5)"
      ]
    },
    {
      "attachments": {},
      "cell_type": "markdown",
      "id": "f6db81ca",
      "metadata": {},
      "source": [
        "### En rojo vemos los genes que estan en la cadena positiva y en azul los genes que están en la cadena negativa. Sabemos que el genoma de *Pseudomonas* es circular y sus cromomosas están organizados en operones. A simple vista se puede observar que si vemos (aunque muy pocos) genes dan similitud contra las secuencias de Uniprot posiblemente tengan la función de síntesis de compuestos antimicrobianos"
      ]
    },
    {
      "cell_type": "markdown",
      "id": "92094df3-4d56-4b67-aaaf-ee08260ba0d8",
      "metadata": {
        "id": "92094df3-4d56-4b67-aaaf-ee08260ba0d8"
      },
      "source": [
        "### 6.1.6 Visualización de los datos con seaborn"
      ]
    },
    {
      "attachments": {},
      "cell_type": "markdown",
      "id": "194a8a45-098d-40f7-a9f9-a6dc96e15c08",
      "metadata": {
        "id": "194a8a45-098d-40f7-a9f9-a6dc96e15c08"
      },
      "source": [
        "### Usaremos una serie de swarmplots en donde podemos comparar las posiciones de los genes en el dataframe completo, separando por categorias (\"genes candidatos\" vs \"genes no candidatos\") y por cadena (\"+\" vs \"-\")\n"
      ]
    },
    {
      "cell_type": "code",
      "execution_count": null,
      "id": "b127f130-9369-4302-a61c-ed091abd5b28",
      "metadata": {
        "id": "b127f130-9369-4302-a61c-ed091abd5b28"
      },
      "outputs": [],
      "source": [
        "num_bins = 25\n",
        "counter_1 = 0\n",
        "counter_2 = 0\n",
        "fig, axes = plt.subplots(5,5,figsize=(30,30))\n",
        "bin_len  = (genome_length - (genome_length % (num_bins - 1))) / (num_bins)\n",
        "for bin_num in range(num_bins):\n",
        "    start_pos = bin_num * bin_len\n",
        "    end_pos   = (bin_num + 1) * bin_len\n",
        "    mb_df = gff_df.copy()\n",
        "    mb_df = mb_df[(mb_df[\"start\"]>start_pos) & (mb_df[\"end\"]<=end_pos)]\n",
        "    sns.swarmplot(ax = axes[counter_1,counter_2],data = mb_df,y=\"candidate\",x=\"start\",hue=\"strand\",dodge=True,order=[\"exclude\",\"include\"],hue_order=[\"+\",\"-\"])\n",
        "    axes[counter_1,counter_2].set(ylabel=None)\n",
        "    counter_2 += 1\n",
        "    if (counter_2%5 == 0):\n",
        "        counter_2 = 0\n",
        "        counter_1 += 1\n",
        "plt.show()"
      ]
    },
    {
      "cell_type": "markdown",
      "id": "9ff86b71-732b-4ac7-90e7-fe5e5a087ecd",
      "metadata": {
        "id": "9ff86b71-732b-4ac7-90e7-fe5e5a087ecd",
        "tags": []
      },
      "source": [
        "# **7. Examinación a detalle del operón seleccionado**"
      ]
    },
    {
      "attachments": {},
      "cell_type": "markdown",
      "id": "88fe0a56-36b6-4b94-b68b-1da515f20045",
      "metadata": {
        "id": "88fe0a56-36b6-4b94-b68b-1da515f20045",
        "tags": []
      },
      "source": [
        "### Obtendremos información del operón que seleccionamos, en este ejemplo vemos que en entre las posiciones 0.61 Mb y 0.62 Mb  puede haber un operon que codifique para la síntesis de aminoácidos.\n",
        "### Podemos analizar las secuencias aminoacídicas de los genes de dicha región a través del servicio de búsqueda de dominios conservados de InterProScan\n",
        "\n",
        "### Lo primero que debemos hacer es obtener los IDs de los genes presentes en dicho operón"
      ]
    },
    {
      "cell_type": "code",
      "execution_count": null,
      "id": "a519ea82-e2d1-46a0-bd1e-88c5922caeea",
      "metadata": {
        "id": "a519ea82-e2d1-46a0-bd1e-88c5922caeea"
      },
      "outputs": [],
      "source": [
        "operon_df = gff_df.copy()\n",
        "operon_df = operon_df[(operon_df[\"start\"]     >= 610000) &\n",
        "                      (operon_df[\"end\"]       <= 620000) &\n",
        "                      (operon_df[\"strand\"]    == \"-\")     &\n",
        "                      (operon_df[\"candidate\"] == \"include\")]\n",
        "operon_df.reset_index(drop=True, inplace=True)"
      ]
    },
    {
      "cell_type": "code",
      "execution_count": null,
      "id": "66d6e45e",
      "metadata": {},
      "outputs": [],
      "source": [
        "operon_df\n"
      ]
    },
    {
      "cell_type": "code",
      "execution_count": null,
      "id": "18168805",
      "metadata": {},
      "outputs": [],
      "source": [
        "len(operon_df)#tenemosun total de 4 genes"
      ]
    },
    {
      "cell_type": "code",
      "execution_count": null,
      "id": "5e83932b-8ebe-4be3-b33d-e204041058e4",
      "metadata": {
        "id": "5e83932b-8ebe-4be3-b33d-e204041058e4"
      },
      "outputs": [],
      "source": [
        "operon_gene_list = []\n",
        "for index in operon_df.index.tolist():\n",
        "    gene_id = operon_df[\"annotation\"][index][\"ID\"]\n",
        "    operon_gene_list.append(gene_id)\n",
        "\n",
        "    #obtendremos el identificador "
      ]
    },
    {
      "cell_type": "code",
      "execution_count": null,
      "id": "62575efa",
      "metadata": {},
      "outputs": [],
      "source": [
        "operon_gene_list#vemos que tienen numeros de acceso consecutivos, lo que puede indicar que forman parte de un operon"
      ]
    },
    {
      "attachments": {},
      "cell_type": "markdown",
      "id": "6a5b2823-6a82-45d0-bdcf-908e7c025b81",
      "metadata": {
        "id": "6a5b2823-6a82-45d0-bdcf-908e7c025b81",
        "tags": []
      },
      "source": [
        "### Construiremos un *string* que contendrá las secuencias aminoacídicas de los genes de interés en formato fasta\n",
        "\n",
        "### Este *string* lo enviaremos al servicio web de InterProScan para buscar dominios conservados en nuestras proteínas\n",
        "\n",
        "> ### Antes de correr el servicio web, eliminaremos los asteriscos de las secuencias"
      ]
    },
    {
      "cell_type": "code",
      "execution_count": null,
      "id": "b1c84a9f-9229-4aeb-a28b-fc4618a52b87",
      "metadata": {
        "id": "b1c84a9f-9229-4aeb-a28b-fc4618a52b87"
      },
      "outputs": [],
      "source": [
        "query_str = \"\""
      ]
    },
    {
      "cell_type": "code",
      "execution_count": null,
      "id": "a0976805-fa0b-48a9-96da-a5806de8fb9d",
      "metadata": {
        "id": "a0976805-fa0b-48a9-96da-a5806de8fb9d"
      },
      "outputs": [],
      "source": [
        "for record in SeqIO.parse(aa_file, \"fasta\"):\n",
        "    seq_id  = record.id\n",
        "    if(seq_id in operon_gene_list):\n",
        "        seq_str = str(record.seq)\n",
        "        query_str+=\">\"+seq_id+\"\\n\"+seq_str+\"\\n\"\n",
        "query_str = query_str.replace(\"*\",\"\")"
      ]
    },
    {
      "attachments": {},
      "cell_type": "markdown",
      "id": "98719fed-d87c-4370-bb27-32c0f460ae8a",
      "metadata": {
        "id": "98719fed-d87c-4370-bb27-32c0f460ae8a",
        "tags": []
      },
      "source": [
        "### En este ejemplo seguiremos el proceso suegerido de búsqueda de dominios y lo dividiremos en tres etapas:\n",
        "\n",
        "- #### Envío de las secuencias\n",
        "- #### Consulta del status del envío\n",
        "- #### Descarga de resultados\n",
        "\n",
        "### Cada etapa tiene una URL específica la cual definiremos a continuación"
      ]
    },
    {
      "cell_type": "code",
      "execution_count": null,
      "id": "1da050df-a1dc-4021-af16-fe447122211f",
      "metadata": {
        "id": "1da050df-a1dc-4021-af16-fe447122211f"
      },
      "outputs": [],
      "source": [
        "submit_url   = \"https://www.ebi.ac.uk/Tools/services/rest/iprscan5/run\"\n",
        "progress_url = \"https://www.ebi.ac.uk/Tools/services/rest/iprscan5/status\"\n",
        "results_url  = \"https://www.ebi.ac.uk/Tools/services/rest/iprscan5/result\""
      ]
    },
    {
      "cell_type": "markdown",
      "id": "ed835587-5435-4e95-b644-4407609f5089",
      "metadata": {
        "id": "ed835587-5435-4e95-b644-4407609f5089",
        "tags": []
      },
      "source": [
        "### De igual manera, cada etapa acepta headers específicos"
      ]
    },
    {
      "cell_type": "code",
      "execution_count": null,
      "id": "f6c2fc70-c4cc-4599-aad8-0eb170259aaa",
      "metadata": {
        "id": "f6c2fc70-c4cc-4599-aad8-0eb170259aaa"
      },
      "outputs": [],
      "source": [
        "submit_headers   = {\"Accept\":\"text/plain\"}\n",
        "progress_headers = {\"Accept\":\"text/plain\"}\n",
        "results_headers  = {\"Accept\":\"text/tab-separated-values\"}"
      ]
    },
    {
      "cell_type": "markdown",
      "id": "e46dfd7a-eec4-418c-b18a-d930824b6093",
      "metadata": {
        "id": "e46dfd7a-eec4-418c-b18a-d930824b6093",
        "tags": []
      },
      "source": [
        "## 7.1 Envío de las secuencias"
      ]
    },
    {
      "cell_type": "markdown",
      "id": "611b8055-63bf-4cf4-9288-1d49017856c0",
      "metadata": {
        "id": "611b8055-63bf-4cf4-9288-1d49017856c0"
      },
      "source": [
        "### En esta etapa, construiremos un diccionario de python que adjuntaremos a `requests` para buscar los dominios funcionales"
      ]
    },
    {
      "cell_type": "code",
      "execution_count": null,
      "id": "7abfdede-81b1-4a6f-a7b6-e852937cb97a",
      "metadata": {
        "id": "7abfdede-81b1-4a6f-a7b6-e852937cb97a"
      },
      "outputs": [],
      "source": [
        "submit_data = {\"email\":\"paulyna_9omar@hotmail.com\",\n",
        "               \"title\":\"operon_335_345\",\n",
        "               \"goterms\":\"false\",\n",
        "               \"pathways\":\"false\",\n",
        "               \"stype\":\"p\",\n",
        "               \"sequence\":query_str}"
      ]
    },
    {
      "cell_type": "markdown",
      "id": "e8b61f52-838e-4625-8ad6-4b61de7e45e2",
      "metadata": {
        "id": "e8b61f52-838e-4625-8ad6-4b61de7e45e2"
      },
      "source": [
        "### Y ya con los datos listos enviamos nuestra solicitud a InterProScan"
      ]
    },
    {
      "cell_type": "code",
      "execution_count": null,
      "id": "a5032c39-bff7-496c-8a73-bff837e9f227",
      "metadata": {
        "id": "a5032c39-bff7-496c-8a73-bff837e9f227"
      },
      "outputs": [],
      "source": [
        "submit_request = requests.post(submit_url,data=submit_data,headers=submit_headers)"
      ]
    },
    {
      "attachments": {},
      "cell_type": "markdown",
      "id": "9eeaa632-700c-4d6a-a78b-3c519970beb1",
      "metadata": {
        "id": "9eeaa632-700c-4d6a-a78b-3c519970beb1"
      },
      "source": [
        "### La API de InterProScan entrega un código de estado y un `job_id`.\n",
        "\n",
        "> ### El código de salida del servidor web, nos indican si la solicitud fue exitosa:\n",
        ">> * 1xx informational response – the request was received, continuing process\n",
        ">>* 2xx successful – the request was successfully received, understood, and accepted\n",
        ">> * 3xx redirection – further action needs to be taken in order to complete the request\n",
        ">> * 4xx client error – the request contains bad syntax or cannot be fulfilled\n",
        ">> * 5xx server error – the server failed to fulfil an apparently valid request\n",
        "\n",
        "### El servidor nos entrega un código de estado 200, nuestras secuencias entraron en el servicio web\n",
        "\n",
        "### Con el siguiente código podemos obtener tanto nuestro `job_id` como el código de estado"
      ]
    },
    {
      "cell_type": "code",
      "execution_count": null,
      "id": "4c7f17e4-6fc0-4284-af60-d160d8b753be",
      "metadata": {
        "id": "4c7f17e4-6fc0-4284-af60-d160d8b753be"
      },
      "outputs": [],
      "source": [
        "submit_status_code = submit_request.status_code\n",
        "submit_job_id      = submit_request.text"
      ]
    },
    {
      "cell_type": "code",
      "execution_count": null,
      "id": "25d03086-3c36-4bc1-82ab-33c7d3a29d46",
      "metadata": {
        "id": "25d03086-3c36-4bc1-82ab-33c7d3a29d46"
      },
      "outputs": [],
      "source": [
        "print(submit_status_code)\n",
        "print(submit_job_id)"
      ]
    },
    {
      "attachments": {},
      "cell_type": "markdown",
      "id": "434b4849",
      "metadata": {},
      "source": [
        "### Ya tenemos nuestro Job_id "
      ]
    },
    {
      "cell_type": "markdown",
      "id": "103a95f3-1d60-4647-92c2-fb3d2a3a635e",
      "metadata": {
        "id": "103a95f3-1d60-4647-92c2-fb3d2a3a635e"
      },
      "source": [
        "## 7.2 Progreso del análisis de las secuencias"
      ]
    },
    {
      "cell_type": "markdown",
      "id": "5af1da3e-cccc-41c0-8675-1130233ed7a2",
      "metadata": {
        "id": "5af1da3e-cccc-41c0-8675-1130233ed7a2"
      },
      "source": [
        "### Con nuestro `job_id` podemos consultar el progreso del análisis con las siguientes líneas de código"
      ]
    },
    {
      "cell_type": "code",
      "execution_count": null,
      "id": "5e06e3ef-205f-44e4-b1e4-75ce191976a6",
      "metadata": {
        "id": "5e06e3ef-205f-44e4-b1e4-75ce191976a6"
      },
      "outputs": [],
      "source": [
        "progress_request     = requests.get(progress_url+\"/\"+submit_job_id,headers=progress_headers)\n",
        "progress_status_code = progress_request.status_code\n",
        "progress_status      = progress_request.text\n",
        "print(progress_status_code)\n",
        "print(progress_status)"
      ]
    },
    {
      "attachments": {},
      "cell_type": "markdown",
      "id": "2685235f-814d-4ddc-849a-a2e982d52aa0",
      "metadata": {
        "id": "2685235f-814d-4ddc-849a-a2e982d52aa0"
      },
      "source": [
        "### Nuevamente, si el servidor nos entrega un código de estado 200, nuestra consulta fue exitosa y el rersultado es FINISHED"
      ]
    },
    {
      "cell_type": "markdown",
      "id": "46285cab-19c0-4d2f-a36c-e590de376ad3",
      "metadata": {
        "id": "46285cab-19c0-4d2f-a36c-e590de376ad3"
      },
      "source": [
        "## 7.3 Obtención de los resultados\n",
        "\n",
        "### Si el estado del análisis es \"FINISHED\", podemos consultar el resultado de nuestro análisis\n",
        "\n",
        "- ### `log` para acceder al reporte de texto del programa\n",
        "- ### `tsv` para acceder al reporte tabular programa"
      ]
    },
    {
      "cell_type": "code",
      "execution_count": null,
      "id": "db39bc56-85cf-4899-9786-52be9f2a5d75",
      "metadata": {
        "id": "db39bc56-85cf-4899-9786-52be9f2a5d75"
      },
      "outputs": [],
      "source": [
        "results_log_request = requests.get(results_url+\"/\"+submit_job_id+\"/log\",headers=results_headers)\n",
        "results_tsv_request = requests.get(results_url+\"/\"+submit_job_id+\"/tsv\",headers=results_headers)"
      ]
    },
    {
      "cell_type": "code",
      "execution_count": null,
      "id": "9ae245ef-a8ab-4a7c-a2c9-2d853810ab61",
      "metadata": {
        "id": "9ae245ef-a8ab-4a7c-a2c9-2d853810ab61"
      },
      "outputs": [],
      "source": [
        "print(results_log_request.text)"
      ]
    },
    {
      "cell_type": "markdown",
      "id": "613ad69b-fba9-4dff-b204-17b5c668bdeb",
      "metadata": {
        "id": "613ad69b-fba9-4dff-b204-17b5c668bdeb"
      },
      "source": [
        "## 7.4 Examinación de los datos de dominios conservados\n",
        "\n",
        "### Finalmente, usaremos la biblioteca StringIO para incorporar nuestros resultados de `requests` en un nuevo dataframe"
      ]
    },
    {
      "cell_type": "code",
      "execution_count": null,
      "id": "373648f3-c5ba-4074-8946-d14e322501e1",
      "metadata": {
        "id": "373648f3-c5ba-4074-8946-d14e322501e1"
      },
      "outputs": [],
      "source": [
        "results_tsv_str = StringIO(results_tsv_request.text)\n",
        "results_column_names = [\"sequence\",\"md5\",\"length\",\"database\",\"accession\",\"description\",\"start\",\"end\",\"evalue\",\"post_processed\",\"date\",\"entry\",\"name\"]\n",
        "results_df = pd.read_csv(results_tsv_str,sep=\"\\t\",names=results_column_names)"
      ]
    },
    {
      "cell_type": "code",
      "execution_count": null,
      "id": "a148796f-f8c9-492c-a933-07f83422c8af",
      "metadata": {
        "id": "a148796f-f8c9-492c-a933-07f83422c8af"
      },
      "outputs": [],
      "source": [
        "results_df"
      ]
    },
    {
      "attachments": {},
      "cell_type": "markdown",
      "id": "ac225b1c",
      "metadata": {},
      "source": [
        "### Con este DataFrame construído podemos ver los dominios conservados que posiblemente corresponden con una función específica de nuestras proteínas. \n",
        "\n"
      ]
    },
    {
      "cell_type": "markdown",
      "id": "6f13f6e2-6566-4c2d-b840-ed9a65737bee",
      "metadata": {
        "id": "6f13f6e2-6566-4c2d-b840-ed9a65737bee"
      },
      "source": [
        "## En este ejercicio empleamos diversas bibliotecas que nos permitieron:\n",
        "\n",
        "- ### Descargar secuencias genómicas no anotadas de GenBank\n",
        "- ### Predecir secuencias codificantes en dicho genoma\n",
        "- ### Obtener secuencias de referencia de UniProt asociadas a una ruta metabólica o a un proceso molecular\n",
        "- ### Comparar las secuencias de referencia contra nuestras predicciones para determinar si en nuestro genoma hay genes codificantes asociados a la ruta metabólica o proceso que especificamos en la búsqueda de secuencias de UniProt\n",
        "- ### Visualizar los datos genómicos a nivel grueso (pyCirclize) y a nivel fino (seaborn)\n",
        "- ### Filtrar nuestros resultados para analizar unicamente un subset de secuencias, potencialmente asociadas a la ruta metabólica o al proceso molecular de interés\n",
        "- ### Búsqueda de dominios funcionales en el subset de proteínas de interés"
      ]
    },
    {
      "attachments": {},
      "cell_type": "markdown",
      "id": "d9fbd5b9",
      "metadata": {},
      "source": [
        "# **8. Conclusión del ejercicio**\n"
      ]
    },
    {
      "attachments": {},
      "cell_type": "markdown",
      "id": "88fe0bbb",
      "metadata": {},
      "source": [
        "## En este ejercicio se empleó una secuencia génimica del género *Pseudomonas*, el cual, se ha investigado que producen metabolitos secundarios que son efectivos para uso en biocontrol (Bonaterra, et al. 2022).\n",
        "\n",
        "### La secuencia elegida nos permitió realizar el ejercicio y encontrar proteínas asociadas a la síntesis de compuestos antimicrobianos\n",
        "### Aunque de manera muy conspicua, se logró identificar un operón que codifica para la síntesis de amonoácidos de interés, en el cual pudimos identificar 4 genes\n",
        "### Finalmente pudimos hacer la búisqueda de dominios conservados que posiblemente corresponden con una función específica de las proteínas\n"
      ]
    }
  ],
  "metadata": {
    "colab": {
      "provenance": []
    },
    "kernelspec": {
      "display_name": "Python 3 (ipykernel)",
      "language": "python",
      "name": "python3"
    },
    "language_info": {
      "codemirror_mode": {
        "name": "ipython",
        "version": 3
      },
      "file_extension": ".py",
      "mimetype": "text/x-python",
      "name": "python",
      "nbconvert_exporter": "python",
      "pygments_lexer": "ipython3",
      "version": "3.9.12"
    }
  },
  "nbformat": 4,
  "nbformat_minor": 5
}
